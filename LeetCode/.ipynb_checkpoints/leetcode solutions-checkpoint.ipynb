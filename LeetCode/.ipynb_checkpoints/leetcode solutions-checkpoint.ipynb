{
 "cells": [
  {
   "cell_type": "markdown",
   "id": "702f4af7-2d75-4559-baf6-7074e60ea6af",
   "metadata": {},
   "source": [
    "You are given a license key represented as a string s that consists of only alphanumeric characters and dashes. The string is separated into n + 1 groups by n dashes. You are also given an integer k.\n",
    "\n",
    "We want to reformat the string s such that each group contains exactly k characters, except for the first group, which could be shorter than k but still must contain at least one character. Furthermore, there must be a dash inserted between two groups, and you should convert all lowercase letters to uppercase.\n",
    "\n",
    "Return the reformatted license key.\n",
    "\n",
    " \n",
    "\n",
    "Example 1:\n",
    "\n",
    "Input: s = \"5F3Z-2e-9-w\", k = 4\n",
    "Output: \"5F3Z-2E9W\"\n",
    "Explanation: The string s has been split into two parts, each part has 4 characters.\n",
    "Note that the two extra dashes are not needed and can be removed.\n",
    "Example 2:\n",
    "\n",
    "Input: s = \"2-5g-3-J\", k = 2\n",
    "Output: \"2-5G-3J\"\n",
    "Explanation: The string s has been split into three parts, each part has 2 characters except the first part as it could be shorter as mentioned above.\n",
    " \n",
    "\n",
    "Constraints:\n",
    "\n",
    "1 <= s.length <= 105\n",
    "s consists of English letters, digits, and dashes '-'.\n",
    "1 <= k <= 104"
   ]
  },
  {
   "cell_type": "code",
   "execution_count": 36,
   "id": "0b9395a9-7b7a-40b8-ae54-37ce07ee136b",
   "metadata": {},
   "outputs": [
    {
     "name": "stdout",
     "output_type": "stream",
     "text": [
      "5G3J\n"
     ]
    },
    {
     "data": {
      "text/plain": [
       "'2-5G-3J'"
      ]
     },
     "execution_count": 36,
     "metadata": {},
     "output_type": "execute_result"
    }
   ],
   "source": [
    "s = \"2-5g-3-J\"\n",
    "k = 2\n",
    "s1=s.upper().replace('-','')\n",
    "l= len(s1)\n",
    "if l%k==0:\n",
    "    s2='-'.join([s1[i:i+k] for i in range(0,l,k) ])\n",
    "else:\n",
    "    rem=l-l%k\n",
    "    s3=s1[:l%k]\n",
    "    s4=s1[l%k:]\n",
    "    print(s4)\n",
    "    s5='-'.join([s4[i:i+k] for i in range(0,rem,k)])\n",
    "    s2=s3+'-'+s5\n",
    "s2"
   ]
  },
  {
   "cell_type": "code",
   "execution_count": null,
   "id": "2e9839dd-bd39-4fc5-b94b-3ed706b850a7",
   "metadata": {},
   "outputs": [],
   "source": [
    "class Solution:\n",
    "    def licenseKeyFormatting(self, s: str, k: int) -> str:\n",
    "        s1=s.upper().replace('-','')\n",
    "        l= len(s1)\n",
    "        if l<=k:\n",
    "            return s.upper().replace('-','')\n",
    "        elif l%k==0:\n",
    "            s2='-'.join([s1[i:i+k] for i in range(0,l,k) ])\n",
    "        else:\n",
    "            rem=l-l%k\n",
    "            s3=s1[:l%k]\n",
    "            s4=s1[l%k:]\n",
    "            # print(s4)\n",
    "            s5='-'.join([s4[i:i+k] for i in range(0,rem,k)])\n",
    "            s2=s3+'-'+s5\n",
    "        return s2"
   ]
  },
  {
   "cell_type": "markdown",
   "id": "a49b4e43-ab7a-47df-9008-233fe6a994ba",
   "metadata": {},
   "source": [
    "Suppose we have a file system that stores both files and directories. An example of one system is represented in the following picture:\n",
    "\n",
    "\n",
    "\n",
    "Here, we have dir as the only directory in the root. dir contains two subdirectories, subdir1 and subdir2. subdir1 contains a file file1.ext and subdirectory subsubdir1. subdir2 contains a subdirectory subsubdir2, which contains a file file2.ext.\n",
    "\n",
    "In text form, it looks like this (with ⟶ representing the tab character):\n",
    "\n",
    "dir\n",
    "⟶ subdir1\n",
    "⟶ ⟶ file1.ext\n",
    "⟶ ⟶ subsubdir1\n",
    "⟶ subdir2\n",
    "⟶ ⟶ subsubdir2\n",
    "⟶ ⟶ ⟶ file2.ext\n",
    "If we were to write this representation in code, it will look like this: \"dir\\n\\tsubddir1\\n\\t\\tfile1.ext\\n\\t\\tsubsubdir1\\n\\tsubdir2\\n\\t\\tsubsubdir2\\n\\t\\t\\tfile2.ext\". Note that the '\\n' and '\\t' are the new-line and tab characters.\n",
    "\n",
    "Every file and directory has a unique absolute path in the file system, which is the order of directories that must be opened to reach the file/directory itself, all concatenated by '/'s. Using the above example, the absolute path to file2.ext is \"dir/subdir2/subsubdir2/file2.ext\". Each directory name consists of letters, digits, and/or spaces. Each file name is of the form name.extension, where name and extension consist of letters, digits, and/or spaces.\n",
    "\n",
    "Given a string input representing the file system in the explained format, return the length of the longest absolute path to a file in the abstracted file system. If there is no file in the system, return 0.\n",
    "\n",
    " \n",
    "\n",
    "Example 1:\n",
    "\n",
    "\n",
    "Input: input = \"dir\\n\\tsubdir1\\n\\tsubdir2\\n\\t\\tfile.ext\"\n",
    "Output: 20\n",
    "Explanation: We have only one file, and the absolute path is \"dir/subdir2/file.ext\" of length 20.\n",
    "Example 2:\n",
    "\n",
    "\n",
    "Input: input = \"dir\\n\\tsubdir1\\n\\t\\tfile1.ext\\n\\t\\tsubsubdir1\\n\\tsubdir2\\n\\t\\tsubsubdir2\\n\\t\\t\\tfile2.ext\"\n",
    "Output: 32\n",
    "Explanation: We have two files:\n",
    "\"dir/subdir1/file1.ext\" of length 21\n",
    "\"dir/subdir2/subsubdir2/file2.ext\" of length 32.\n",
    "We return 32 since it is the longest absolute path to a file.\n",
    "Example 3:\n",
    "\n",
    "Input: input = \"a\"\n",
    "Output: 0\n",
    "Explanation: We do not have any files, just a single directory named \"a\".\n",
    "Example 4:\n",
    "\n",
    "Input: input = \"file1.txt\\nfile2.txt\\nlongfile.txt\"\n",
    "Output: 12\n",
    "Explanation: There are 3 files at the root directory.\n",
    "Since the absolute path for anything at the root directory is just the name itself, the answer is \"longfile.txt\" with length 12.\n",
    " \n",
    "\n",
    "Constraints:\n",
    "\n",
    "1 <= input.length <= 104\n",
    "input may contain lowercase or uppercase English letters, a new line character '\\n', a tab character '\\t', a dot '.', a space ' ', and digits.\n",
    "\n",
    "Prev\n",
    "2 / 2\n",
    "\n",
    "Next"
   ]
  },
  {
   "cell_type": "code",
   "execution_count": 49,
   "id": "b74e94b3-3ce6-4b32-a200-b05475c1c8dc",
   "metadata": {},
   "outputs": [
    {
     "data": {
      "text/plain": [
       "-1"
      ]
     },
     "execution_count": 49,
     "metadata": {},
     "output_type": "execute_result"
    }
   ],
   "source": [
    "stack=[(-1,0)]\n",
    "# stack.pop()\n",
    "stack[-1][0]"
   ]
  },
  {
   "cell_type": "code",
   "execution_count": 55,
   "id": "f51ddadf-5d15-4092-a2b1-2d4e85f31365",
   "metadata": {},
   "outputs": [
    {
     "data": {
      "text/plain": [
       "12"
      ]
     },
     "execution_count": 55,
     "metadata": {},
     "output_type": "execute_result"
    }
   ],
   "source": [
    "input = \"file1.txt\\nfile2.txt\\nlongfile.txt\"\n",
    "stack=[(-1,0)]\n",
    "maxlen=0\n",
    "for p in input.split('\\n'):\n",
    "    \n",
    "    depth=p.count('\\t')\n",
    "    p=p.replace('\\t','')\n",
    "   \n",
    "    while stack and depth <= stack[-1][0]:\n",
    "        stack.pop()\n",
    "    if '.' not in p:\n",
    "        stack.append([depth,len(p)+stack[-1][1]+1])\n",
    "    else:\n",
    "        maxlen=max(maxlen,len(p)+stack[-1][1])\n",
    "maxlen\n",
    "        \n",
    "        # if no /t and \n",
    "        "
   ]
  },
  {
   "cell_type": "code",
   "execution_count": null,
   "id": "a6b89caf-4cc2-4865-bf39-8ecdd29c3a09",
   "metadata": {},
   "outputs": [],
   "source": []
  }
 ],
 "metadata": {
  "kernelspec": {
   "display_name": "Python 3.9.5 64-bit ('miniforge3': virtualenv)",
   "language": "python",
   "name": "python395jvsc74a57bd023b1c9a614c87c59e2789aac7461974ea5732657b1ecaa64db7f65804c2bbadf"
  },
  "language_info": {
   "codemirror_mode": {
    "name": "ipython",
    "version": 3
   },
   "file_extension": ".py",
   "mimetype": "text/x-python",
   "name": "python",
   "nbconvert_exporter": "python",
   "pygments_lexer": "ipython3",
   "version": "3.9.5"
  }
 },
 "nbformat": 4,
 "nbformat_minor": 5
}
