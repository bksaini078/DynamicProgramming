{
  "nbformat": 4,
  "nbformat_minor": 0,
  "metadata": {
    "colab": {
      "name": "PythonOOPS.ipynb",
      "provenance": [],
      "collapsed_sections": [],
      "authorship_tag": "ABX9TyMel2SJFg0qCqoDgK62a//b",
      "include_colab_link": true
    },
    "kernelspec": {
      "name": "python3",
      "display_name": "Python 3"
    },
    "language_info": {
      "name": "python"
    }
  },
  "cells": [
    {
      "cell_type": "markdown",
      "metadata": {
        "id": "view-in-github",
        "colab_type": "text"
      },
      "source": [
        "<a href=\"https://colab.research.google.com/github/bksaini078/DynamicProgramming/blob/main/PythonOOPS.ipynb\" target=\"_parent\"><img src=\"https://colab.research.google.com/assets/colab-badge.svg\" alt=\"Open In Colab\"/></a>"
      ]
    },
    {
      "cell_type": "markdown",
      "metadata": {
        "id": "4WDTzc4LW3EX"
      },
      "source": [
        "# Advantages of OOP\n",
        "**1. Re-usability**\n",
        "It means reusing some facilities rather than building them again and again. This is done with the use of a class. We can use it ‘n’ number of times as per our need.\n",
        "\n",
        "**2. Data Redundancy**\n",
        "This is a condition created at the place of data storage (you can say Databases)where the same piece of data is held in two separate places. So the data redundancy is one of the greatest advantages of OOP. If a user wants a similar functionality in multiple classes, he/she can go ahead by writing common class definitions for similar functionalities and inherit them.\n",
        "\n",
        "**3. Code Maintenance**\n",
        "This feature is more of a necessity for any programming languages; it helps users from doing re-work in many ways. It is always easy and time-saving to maintain and modify the existing codes by incorporating new changes into them.\n",
        "\n",
        "**4. Security**\n",
        "With the use of data hiding and abstraction mechanism, we are filtering out limited data to exposure, which means we are maintaining security and providing necessary data to view.\n",
        "\n",
        "ref: https://www.educba.com/advantages-of-oop/\n",
        "\n"
      ]
    },
    {
      "cell_type": "markdown",
      "metadata": {
        "id": "ec0856ifXrhj"
      },
      "source": [
        "# Class \n",
        "-Is a blueprint for the object"
      ]
    },
    {
      "cell_type": "code",
      "metadata": {
        "id": "bidTUdbrWw7_"
      },
      "source": [
        "class Parrot:\n",
        "    pass"
      ],
      "execution_count": null,
      "outputs": []
    },
    {
      "cell_type": "code",
      "metadata": {
        "id": "cKIP9gctX4oS"
      },
      "source": [
        "'''Object- An object is an instantiation of a class (instance of a class)\n",
        "When class is defined, only the description for the object is defined. Therefore, no memory or storage is allocated.'''\n",
        "\n",
        "obj= Parrot()"
      ],
      "execution_count": null,
      "outputs": []
    },
    {
      "cell_type": "markdown",
      "metadata": {
        "id": "qgbizEkLYPSG"
      },
      "source": [
        "# Creating Class and object in Python"
      ]
    },
    {
      "cell_type": "code",
      "metadata": {
        "colab": {
          "base_uri": "https://localhost:8080/"
        },
        "id": "5_-QrnIDYN29",
        "outputId": "3e9e9618-2631-49d5-831b-d6ff1ce3653c"
      },
      "source": [
        "class Parrot:\n",
        "    #Class attribute\n",
        "    species= \"bird\"\n",
        "    # instance attribute , constructor\n",
        "    def __init__(self, name,age):\n",
        "        self.name= name\n",
        "        self.age=age\n",
        "# instantiating the parrot class\n",
        "blu= Parrot(\"Blu\",10)\n",
        "woo=Parrot(\"woo\",15)\n",
        "\n",
        "# accesing the class attributes\n",
        "print(\"Blu is a {}\".format(blu.__class__.species))\n",
        "print(\"woo is also a {}\".format(woo.__class__.species))\n",
        "\n",
        "\n",
        "# accessing the instance attributes\n",
        "print(\"{} is {} years old\".format(blu.name,blu.age))\n",
        "print(\"{} is {} year old\".format(woo.name,woo.age))\n",
        "\n",
        "\n",
        "\n"
      ],
      "execution_count": null,
      "outputs": [
        {
          "output_type": "stream",
          "text": [
            "Blu is a bird\n",
            "woo is also a bird\n",
            "Blu is 10 years old\n",
            "woo is 15 year old\n"
          ],
          "name": "stdout"
        }
      ]
    },
    {
      "cell_type": "markdown",
      "metadata": {
        "id": "h6bLp6d1Zp1C"
      },
      "source": [
        "# Creating method in Python"
      ]
    },
    {
      "cell_type": "code",
      "metadata": {
        "colab": {
          "base_uri": "https://localhost:8080/"
        },
        "id": "d2YxEGsWZjqB",
        "outputId": "d0cafc9b-4a6d-440f-fd30-49dd4ac15d85"
      },
      "source": [
        "class Parrot:\n",
        "    #initializing with class attributes\n",
        "    def __init__(self,name,age):\n",
        "        self.name=name\n",
        "        self.age=age\n",
        "    \n",
        "    #creating method in class, here we are giving an argument\n",
        "    def sing(self,song):\n",
        "        return \"{} is singing {}\".format(self.name,song)\n",
        "    # creating another method without an argument \n",
        "    def dance(self):\n",
        "        return \"{} is dancing\".format(self.name)\n",
        "\n",
        "# creating instance of the class\n",
        "blu=Parrot('blue',10)\n",
        "print(blu.sing('Happy songs'))\n",
        "print(blu.dance())\n",
        "\n",
        "    "
      ],
      "execution_count": null,
      "outputs": [
        {
          "output_type": "stream",
          "text": [
            "blue is singing Happy songs\n",
            "blue is dancing\n"
          ],
          "name": "stdout"
        }
      ]
    },
    {
      "cell_type": "markdown",
      "metadata": {
        "id": "nUO97jvyaw0b"
      },
      "source": [
        "## Inheritance\n",
        "Inheritance is a way of creating a new class for using details of an existing class without modifying it. The newly formed class is a derived class (or child class). Similarly, the existing class is a base class (or parent class)."
      ]
    },
    {
      "cell_type": "code",
      "metadata": {
        "colab": {
          "base_uri": "https://localhost:8080/"
        },
        "id": "EsljcvcBauNJ",
        "outputId": "23639af4-697c-4bcd-9fe2-1013ccfc4f4b"
      },
      "source": [
        "# creating parent class\n",
        "class Bird:\n",
        "    def __init__(self,name,age):\n",
        "        self.name=name\n",
        "        self.age= age\n",
        "        print(\"Bird is ready\")\n",
        "    def whoIsThis(self):\n",
        "        print(\"Bird\")\n",
        "    def swim(self):\n",
        "        print(\"swim faster\")\n",
        "# creating child class\n",
        "class Penguin(Bird):\n",
        "    '''Include the class name here'''\n",
        "    def __init__(self,name,age):\n",
        "        super().__init__(name,age)\n",
        "        print(\"Penguin is ready\")\n",
        "    def whoIsThis(self):\n",
        "        print(\"Penguin name is {} and age is {}\".format(self.name,self.age))\n",
        "    def run(self):\n",
        "        print(\"run faster\")\n",
        "peggy= Penguin('peggy',10)\n",
        "peggy.whoIsThis()\n",
        "peggy.swim()\n",
        "\n"
      ],
      "execution_count": null,
      "outputs": [
        {
          "output_type": "stream",
          "text": [
            "Bird is ready\n",
            "Penguin is ready\n",
            "Penguin name is peggy and age is 10\n",
            "swim faster\n"
          ],
          "name": "stdout"
        }
      ]
    },
    {
      "cell_type": "markdown",
      "metadata": {
        "id": "uGWLVLi7cwCh"
      },
      "source": [
        "# Encapsulation \n",
        "Using OOP in Python, we can restrict access to methods and variables. This prevents data from direct modification which is called encapsulation. In Python, we denote private attributes using underscore as the prefix i.e single _ or double __."
      ]
    },
    {
      "cell_type": "code",
      "metadata": {
        "colab": {
          "base_uri": "https://localhost:8080/"
        },
        "id": "8pwJCX2ib1TF",
        "outputId": "2076994b-2ae1-4dee-822f-1a8e19f493a7"
      },
      "source": [
        "class Computer:\n",
        "    def __init__(self):\n",
        "        self.__maxprice=900\n",
        "    def sell(self):\n",
        "        print(\"Selling price is :{}\".format(self.__maxprice))\n",
        "    # creating a function to modify the private parameters\n",
        "    def setMaxPrice(self,price):\n",
        "        self.__maxprice=price\n",
        "c= Computer()\n",
        "c.sell()\n",
        "# here you can check even we try to assign some value it doesnot take the value \n",
        "c.__maxprice=1000\n",
        "c.sell()\n",
        "c.setMaxPrice(1000)\n",
        "c.sell()"
      ],
      "execution_count": null,
      "outputs": [
        {
          "output_type": "stream",
          "text": [
            "Selling price is :900\n",
            "Selling price is :900\n",
            "Selling price is :1000\n"
          ],
          "name": "stdout"
        }
      ]
    },
    {
      "cell_type": "code",
      "metadata": {
        "id": "wqnOzz57fsKK"
      },
      "source": [
        ""
      ],
      "execution_count": null,
      "outputs": []
    },
    {
      "cell_type": "markdown",
      "metadata": {
        "id": "KUzBpM5YfKyz"
      },
      "source": [
        "# Polymorphism\n",
        "Polymorphism is an ability (in OOP) to use a common interface for multiple forms (data types).\n",
        "\n",
        "Suppose, we need to color a shape, there are multiple shape options (rectangle, square, circle). However we could use the same method to color any shape. This concept is called Polymorphism."
      ]
    },
    {
      "cell_type": "code",
      "metadata": {
        "colab": {
          "base_uri": "https://localhost:8080/"
        },
        "id": "B64tSZKOd0kU",
        "outputId": "29fa40e7-4da8-4276-efcd-9068be5c7c02"
      },
      "source": [
        "class Parrot:\n",
        "\n",
        "    def fly(self):\n",
        "        print(\"Parrot can fly\")\n",
        "    \n",
        "    def swim(self):\n",
        "        print(\"Parrot can't swim\")\n",
        "\n",
        "class Penguin:\n",
        "\n",
        "    def fly(self):\n",
        "        print(\"Penguin can't fly\")\n",
        "    \n",
        "    def swim(self):\n",
        "        print(\"Penguin can swim\")\n",
        "\n",
        "# common interface\n",
        "def flying_test(bird):\n",
        "    bird.fly()\n",
        "\n",
        "#instantiate objects\n",
        "blu = Parrot()\n",
        "peggy = Penguin()\n",
        "\n",
        "# passing the object\n",
        "flying_test(blu)\n",
        "flying_test(peggy)"
      ],
      "execution_count": null,
      "outputs": [
        {
          "output_type": "stream",
          "text": [
            "Parrot can fly\n",
            "Penguin can't fly\n"
          ],
          "name": "stdout"
        }
      ]
    },
    {
      "cell_type": "markdown",
      "metadata": {
        "id": "urR4_RZegVaz"
      },
      "source": [
        "# some more example "
      ]
    },
    {
      "cell_type": "code",
      "metadata": {
        "colab": {
          "base_uri": "https://localhost:8080/"
        },
        "id": "igtI9m5jf9YW",
        "outputId": "c077f579-b122-4afc-e513-25a3e3a848b0"
      },
      "source": [
        "class Employee:\n",
        "    '''Comman Employee class shared by all employee'''\n",
        "    # variable shared by all the employees\n",
        "    empCount=0\n",
        "\n",
        "    def __init__(self,name,salary):\n",
        "        self.name=name\n",
        "        self.salary=salary\n",
        "        # this is how we increment the variable \n",
        "        Employee.empCount+=1\n",
        "    def displayCount(self):\n",
        "        print('Total Employee Count {}'.format( Employee.empCount))\n",
        "    def displayEmployee(self):\n",
        "        print(\"Name {}, salary{}\".format(self.name,self.salary))\n",
        "emp1= Employee(\"Sara\",20000)\n",
        "\n",
        "\n",
        "emp1.displayCount()\n",
        "emp1.displayEmployee()\n",
        "emp2= Employee(\"Manni\",50000)\n",
        "emp2.displayCount()\n",
        "emp2.displayEmployee()\n",
        "\n"
      ],
      "execution_count": null,
      "outputs": [
        {
          "output_type": "stream",
          "text": [
            "Total Employee Count 1\n",
            "Name Sara, salary20000\n",
            "Total Employee Count 2\n",
            "Name Manni, salary50000\n"
          ],
          "name": "stdout"
        }
      ]
    },
    {
      "cell_type": "markdown",
      "metadata": {
        "id": "UqLvSCeMh3Bh"
      },
      "source": [
        "You can add, remove, or modify attributes of classes and objects at any time −\n",
        "\n"
      ]
    },
    {
      "cell_type": "code",
      "metadata": {
        "id": "qhtdO7UbhdcU"
      },
      "source": [
        "# adding an attriute \n",
        "emp1.age=10\n",
        "emp1.age=20\n",
        "\n"
      ],
      "execution_count": null,
      "outputs": []
    },
    {
      "cell_type": "markdown",
      "metadata": {
        "id": "1eldJwiPiJ2C"
      },
      "source": [
        "Instead of using the normal statements to access attributes, you can use the following functions −\n",
        "\n",
        "The **getattr(obj, name[, default])** − to access the attribute of object.\n",
        "\n",
        "The **hasattr(obj,name)** − to check if an attribute exists or not.\n",
        "\n",
        "The **setattr(obj,name,value)** − to set an attribute. If attribute does not exist, then it would be created.\n",
        "\n",
        "The delattr(obj, name) − to delete an attribute.\n",
        "\n"
      ]
    },
    {
      "cell_type": "code",
      "metadata": {
        "id": "xf1SH2HsiEdK"
      },
      "source": [
        "hasattr(emp1, 'age')    # Returns true if 'age' attribute exists\n",
        "getattr(emp1, 'age')    # Returns value of 'age' attribute\n",
        "setattr(emp1, 'age', 8) # Set attribute 'age' at 8\n",
        "delattr(emp1, 'age')    # Delete attribute 'age'"
      ],
      "execution_count": null,
      "outputs": []
    },
    {
      "cell_type": "markdown",
      "metadata": {
        "id": "pPnuFtSTiz9G"
      },
      "source": [
        "Built-In Class Attributes\n",
        "Every Python class keeps following built-in attributes and they can be accessed using dot operator like any other attribute −\n",
        "\n",
        "__dict__ − Dictionary containing the class's namespace.\n",
        "\n",
        "__doc__ − Class documentation string or none, if undefined.\n",
        "\n",
        "__name__ − Class name.\n",
        "\n",
        "__module__ − Module name in which the class is defined. This attribute is \"__main__\" in interactive mode.\n",
        "\n",
        "__bases__ − A possibly empty tuple containing the base classes, in the order of their occurrence in the base class list.\n",
        "\n",
        "For the above class let us try to access all these attributes −"
      ]
    },
    {
      "cell_type": "code",
      "metadata": {
        "colab": {
          "base_uri": "https://localhost:8080/"
        },
        "id": "jLiVZN7oifVw",
        "outputId": "f16c0f73-f1eb-41eb-cc1a-62ef244e930d"
      },
      "source": [
        "print(\"Employee.__doc__:{}\".format(Employee.__doc__))\n",
        "print(\"Employee.__dict__:{}\".format(Employee.__dict__))\n",
        "print(\"Employee._name__:{}\".format(Employee.__name__))\n",
        "print(\"Employee.__module__:{}\".format(Employee.__module__))\n",
        "print(\"Employee.__bases__:{}\".format(Employee.__bases__))\n"
      ],
      "execution_count": null,
      "outputs": [
        {
          "output_type": "stream",
          "text": [
            "Employee.__doc__:Comman Employee class shared by all employee\n",
            "Employee.__dict__:{'__module__': '__main__', '__doc__': 'Comman Employee class shared by all employee', 'empCount': 2, '__init__': <function Employee.__init__ at 0x7fc9eed4d290>, 'displayCount': <function Employee.displayCount at 0x7fc9eed4d050>, 'displayEmployee': <function Employee.displayEmployee at 0x7fc9eed4d170>, '__dict__': <attribute '__dict__' of 'Employee' objects>, '__weakref__': <attribute '__weakref__' of 'Employee' objects>}\n",
            "Employee._name__:Employee\n",
            "Employee.__module__:__main__\n",
            "Employee.__bases__:(<class 'object'>,)\n"
          ],
          "name": "stdout"
        }
      ]
    },
    {
      "cell_type": "markdown",
      "metadata": {
        "id": "0xkgZMa7j9X7"
      },
      "source": [
        "# Destructor"
      ]
    },
    {
      "cell_type": "code",
      "metadata": {
        "colab": {
          "base_uri": "https://localhost:8080/"
        },
        "id": "7bqj4BCWjC1U",
        "outputId": "4720c029-f528-403d-acd2-5ba18465c2b3"
      },
      "source": [
        "class Point:\n",
        "   def __init__( self, x=0, y=0):\n",
        "      self.x = x\n",
        "      self.y = y\n",
        "   def __del__(self):\n",
        "      class_name = self.__class__.__name__\n",
        "      print(class_name, \"destroyed\")\n",
        "\n",
        "pt1 = Point()\n",
        "pt2 = pt1\n",
        "pt3 = pt1\n",
        "print(id(pt1), id(pt2), id(pt3)) # prints the ids of the obejcts\n",
        "del pt3\n",
        "del pt2\n",
        "del pt1\n"
      ],
      "execution_count": null,
      "outputs": [
        {
          "output_type": "stream",
          "text": [
            "140505272813968 140505272813968 140505272813968\n",
            "Point destroyed\n"
          ],
          "name": "stdout"
        }
      ]
    },
    {
      "cell_type": "code",
      "metadata": {
        "colab": {
          "base_uri": "https://localhost:8080/"
        },
        "id": "W_PKcKA9j_x9",
        "outputId": "ce105f66-4aeb-4267-b4d5-f0e058f551a8"
      },
      "source": [
        "pt1"
      ],
      "execution_count": null,
      "outputs": [
        {
          "output_type": "execute_result",
          "data": {
            "text/plain": [
              "<__main__.Point at 0x7fc9eed57690>"
            ]
          },
          "metadata": {
            "tags": []
          },
          "execution_count": 51
        }
      ]
    },
    {
      "cell_type": "markdown",
      "metadata": {
        "id": "IKBNixIjmQvx"
      },
      "source": [
        "# Public, Private and Protected variable"
      ]
    },
    {
      "cell_type": "code",
      "metadata": {
        "id": "dLWFZDsTkM_Y",
        "colab": {
          "base_uri": "https://localhost:8080/"
        },
        "outputId": "2012eba6-5b95-4457-8ead-819d72cb0a7b"
      },
      "source": [
        "# Protected _,Private __\n",
        "class Student:\n",
        "    _protectedscount=0\n",
        "    __privatescount=0\n",
        "    def __init__(self,name,age):\n",
        "        self.name=name\n",
        "        self.age=age\n",
        "        Student._protectedscount+=1\n",
        "        Student.__privatescount+=1\n",
        "    def display(self):\n",
        "        print(\"{} {}\".format(self.name,self.age))\n",
        "        print(\"{}\".format(Student._protectedscount))\n",
        "        print(\"{}\".format(Student.__privatescount))\n",
        "\n",
        "class substudent(Student):\n",
        "    def __init__(self,name,age):\n",
        "        super().__init__(name,age)\n",
        "    def displayinfo(self):\n",
        "        print(\"{} {}\".format(self.name,self.age))\n",
        "\n",
        "s1=Student(\"Rajesh\",23)\n",
        "s1.display()"
      ],
      "execution_count": 31,
      "outputs": [
        {
          "output_type": "stream",
          "text": [
            "Rajesh 23\n",
            "1\n",
            "1\n"
          ],
          "name": "stdout"
        }
      ]
    },
    {
      "cell_type": "code",
      "metadata": {
        "id": "kVHbhTijnD0s"
      },
      "source": [
        "print(s1._protectedscount)# protected is accessible \n",
        "print(s1.__privatescount) # private is not accessible "
      ],
      "execution_count": null,
      "outputs": []
    },
    {
      "cell_type": "code",
      "metadata": {
        "colab": {
          "base_uri": "https://localhost:8080/",
          "height": 183
        },
        "id": "X0Su3sDYnQ3x",
        "outputId": "d9d4fb2f-ed04-4c68-da0f-98d516608d19"
      },
      "source": [
        "s2=substudent('Kalam',34)\n",
        "s2.__privatescount,s2.age"
      ],
      "execution_count": 37,
      "outputs": [
        {
          "output_type": "error",
          "ename": "AttributeError",
          "evalue": "ignored",
          "traceback": [
            "\u001b[0;31m---------------------------------------------------------------------------\u001b[0m",
            "\u001b[0;31mAttributeError\u001b[0m                            Traceback (most recent call last)",
            "\u001b[0;32m<ipython-input-37-b928786919cf>\u001b[0m in \u001b[0;36m<module>\u001b[0;34m()\u001b[0m\n\u001b[1;32m      1\u001b[0m \u001b[0ms2\u001b[0m\u001b[0;34m=\u001b[0m\u001b[0msubstudent\u001b[0m\u001b[0;34m(\u001b[0m\u001b[0;34m'Kalam'\u001b[0m\u001b[0;34m,\u001b[0m\u001b[0;36m34\u001b[0m\u001b[0;34m)\u001b[0m\u001b[0;34m\u001b[0m\u001b[0;34m\u001b[0m\u001b[0m\n\u001b[0;32m----> 2\u001b[0;31m \u001b[0ms2\u001b[0m\u001b[0;34m.\u001b[0m\u001b[0m__privatescount\u001b[0m\u001b[0;34m,\u001b[0m\u001b[0ms2\u001b[0m\u001b[0;34m.\u001b[0m\u001b[0mage\u001b[0m\u001b[0;34m\u001b[0m\u001b[0;34m\u001b[0m\u001b[0m\n\u001b[0m",
            "\u001b[0;31mAttributeError\u001b[0m: 'substudent' object has no attribute '__privatescount'"
          ]
        }
      ]
    },
    {
      "cell_type": "code",
      "metadata": {
        "colab": {
          "base_uri": "https://localhost:8080/"
        },
        "id": "5l_SnQCtq-He",
        "outputId": "56bed01f-8b25-4cb3-9614-1186900cc5a8"
      },
      "source": [
        "# but you can access by \n",
        "s2._Student__privatescount"
      ],
      "execution_count": 38,
      "outputs": [
        {
          "output_type": "execute_result",
          "data": {
            "text/plain": [
              "7"
            ]
          },
          "metadata": {
            "tags": []
          },
          "execution_count": 38
        }
      ]
    },
    {
      "cell_type": "code",
      "metadata": {
        "id": "bD1DQOSZrgIC"
      },
      "source": [
        ""
      ],
      "execution_count": null,
      "outputs": []
    }
  ]
}